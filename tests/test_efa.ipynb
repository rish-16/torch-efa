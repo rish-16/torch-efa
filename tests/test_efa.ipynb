{
 "cells": [
  {
   "cell_type": "code",
   "execution_count": null,
   "id": "40deab70",
   "metadata": {},
   "outputs": [],
   "source": [
    "from torch_efa.fast_attn import EFA\n",
    "import torch"
   ]
  },
  {
   "cell_type": "code",
   "execution_count": null,
   "id": "dc998923",
   "metadata": {},
   "outputs": [],
   "source": [
    "n_nodes = 50\n",
    "num_parity = 1\n",
    "max_degree_inputs = 2\n",
    "num_degrees = (max_degree_inputs + 1) ** 2\n",
    "num_features = 32"
   ]
  },
  {
   "cell_type": "code",
   "execution_count": null,
   "id": "2dd4dfc1",
   "metadata": {},
   "outputs": [
    {
     "name": "stdout",
     "output_type": "stream",
     "text": [
      "torch.Size([50, 3]) torch.Size([50, 1, 9, 32])\n"
     ]
    }
   ],
   "source": [
    "pos = torch.randn(n_nodes, 3)\n",
    "inputs = torch.randn(n_nodes, num_parity, num_degrees, num_features)\n",
    "print (pos.shape, inputs.shape)"
   ]
  },
  {
   "cell_type": "code",
   "execution_count": null,
   "id": "4d3b44ed",
   "metadata": {},
   "outputs": [],
   "source": [
    "efa_module = EFA()"
   ]
  },
  {
   "cell_type": "code",
   "execution_count": null,
   "id": "191e46e8",
   "metadata": {},
   "outputs": [],
   "source": [
    "y = efa_module(inputs, pos)"
   ]
  }
 ],
 "metadata": {
  "kernelspec": {
   "display_name": "pyg3",
   "language": "python",
   "name": "python3"
  },
  "language_info": {
   "codemirror_mode": {
    "name": "ipython",
    "version": 3
   },
   "file_extension": ".py",
   "mimetype": "text/x-python",
   "name": "python",
   "nbconvert_exporter": "python",
   "pygments_lexer": "ipython3",
   "version": "3.7.16"
  }
 },
 "nbformat": 4,
 "nbformat_minor": 5
}
