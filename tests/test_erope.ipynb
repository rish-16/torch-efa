{
 "cells": [
  {
   "cell_type": "code",
   "execution_count": 1,
   "id": "12bb0865",
   "metadata": {},
   "outputs": [],
   "source": [
    "from torch_efa.erope import ERoPE\n",
    "import numpy as np\n",
    "from scipy.integrate import lebedev_rule\n",
    "import torch"
   ]
  },
  {
   "cell_type": "code",
   "execution_count": 2,
   "id": "d5800b74",
   "metadata": {},
   "outputs": [],
   "source": [
    "erope = ERoPE()"
   ]
  },
  {
   "cell_type": "code",
   "execution_count": 3,
   "id": "46f02b27",
   "metadata": {},
   "outputs": [],
   "source": [
    "n_nodes = 5\n",
    "max_degree = 2 # L_max\n",
    "num_features = 38\n",
    "num_parity = 1\n",
    "num_degrees = (max_degree + 1) ** 2\n",
    "batch_size = 1"
   ]
  },
  {
   "cell_type": "code",
   "execution_count": 4,
   "id": "492d58a3",
   "metadata": {},
   "outputs": [],
   "source": [
    "q = torch.randn(batch_size, n_nodes, num_parity, num_degrees, num_features).float()\n",
    "k = torch.randn(batch_size, n_nodes, num_parity, num_degrees, num_features).float()\n",
    "v = torch.randn(batch_size, n_nodes, num_parity, num_degrees, num_features).float()\n",
    "pos = torch.randn(batch_size, n_nodes, 3).float()\n",
    "pos_translated = pos + torch.randn(batch_size, 1, 3)"
   ]
  },
  {
   "cell_type": "code",
   "execution_count": 5,
   "id": "1b7515ec",
   "metadata": {},
   "outputs": [
    {
     "name": "stdout",
     "output_type": "stream",
     "text": [
      "torch.Size([1, 50, 3]) torch.Size([1, 50])\n"
     ]
    }
   ],
   "source": [
    "num = 11  # Should be enough for theta_max = pi.\n",
    "grid_pts, grid_weights = lebedev_rule(n=num)\n",
    "grid_pts = torch.from_numpy(grid_pts).T.float().unsqueeze(0)\n",
    "grid_weights = torch.from_numpy(grid_weights).float().unsqueeze(0)\n",
    "print (grid_pts.shape, grid_weights.shape)"
   ]
  },
  {
   "cell_type": "markdown",
   "id": "e119bb35",
   "metadata": {},
   "source": [
    "#### Translation Equivariance"
   ]
  },
  {
   "cell_type": "code",
   "execution_count": 6,
   "id": "2b8f451d",
   "metadata": {},
   "outputs": [
    {
     "name": "stdout",
     "output_type": "stream",
     "text": [
      "torch.Size([19])\n"
     ]
    }
   ],
   "source": [
    "max_distance = 10.0\n",
    "theta = torch.linspace(0,  np.pi / max_distance, num_features // 2)\n",
    "print (theta.shape)"
   ]
  },
  {
   "cell_type": "code",
   "execution_count": 7,
   "id": "cbcd6e47",
   "metadata": {},
   "outputs": [
    {
     "name": "stdout",
     "output_type": "stream",
     "text": [
      "torch.Size([1, 50, 5, 1, 9, 38])\n"
     ]
    }
   ],
   "source": [
    "out = erope(q, k, v, pos, grid_pts, grid_weights, theta=theta)\n",
    "print (out.shape)"
   ]
  },
  {
   "cell_type": "code",
   "execution_count": 8,
   "id": "46291be0",
   "metadata": {},
   "outputs": [
    {
     "name": "stdout",
     "output_type": "stream",
     "text": [
      "torch.Size([1, 50, 5, 1, 9, 38])\n"
     ]
    }
   ],
   "source": [
    "out_translated = erope(q, k, v, pos_translated, grid_pts, grid_weights, theta=theta)\n",
    "print (out_translated.shape)"
   ]
  },
  {
   "cell_type": "code",
   "execution_count": null,
   "id": "1c6bdfec",
   "metadata": {},
   "outputs": [],
   "source": []
  }
 ],
 "metadata": {
  "kernelspec": {
   "display_name": "efa",
   "language": "python",
   "name": "python3"
  },
  "language_info": {
   "codemirror_mode": {
    "name": "ipython",
    "version": 3
   },
   "file_extension": ".py",
   "mimetype": "text/x-python",
   "name": "python",
   "nbconvert_exporter": "python",
   "pygments_lexer": "ipython3",
   "version": "3.10.15"
  }
 },
 "nbformat": 4,
 "nbformat_minor": 5
}
